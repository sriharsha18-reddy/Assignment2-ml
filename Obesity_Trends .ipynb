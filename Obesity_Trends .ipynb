{
 "cells": [
  {
   "cell_type": "code",
   "execution_count": 1,
   "metadata": {
    "id": "zZ_FFm65WYkG"
   },
   "outputs": [],
   "source": [
    "import pandas as pd"
   ]
  },
  {
   "cell_type": "code",
   "execution_count": 2,
   "metadata": {
    "id": "CQVem2ncXzVS"
   },
   "outputs": [],
   "source": [
    "df=pd.read_csv('Nutrition__Physical_Activity__and_Obesity_-_Behavioral_Risk_Factor_Surveillance_System')"
   ]
  },
  {
   "cell_type": "code",
   "execution_count": 3,
   "metadata": {
    "colab": {
     "base_uri": "https://localhost:8080/",
     "height": 635
    },
    "id": "1JhFMMeXX3pK",
    "outputId": "029f27e5-cdf6-41ce-a207-802d2ad644b3"
   },
   "outputs": [
    {
     "data": {
      "text/html": [
       "<div>\n",
       "<style scoped>\n",
       "    .dataframe tbody tr th:only-of-type {\n",
       "        vertical-align: middle;\n",
       "    }\n",
       "\n",
       "    .dataframe tbody tr th {\n",
       "        vertical-align: top;\n",
       "    }\n",
       "\n",
       "    .dataframe thead th {\n",
       "        text-align: right;\n",
       "    }\n",
       "</style>\n",
       "<table border=\"1\" class=\"dataframe\">\n",
       "  <thead>\n",
       "    <tr style=\"text-align: right;\">\n",
       "      <th></th>\n",
       "      <th>YearStart</th>\n",
       "      <th>YearEnd</th>\n",
       "      <th>LocationAbbr</th>\n",
       "      <th>LocationDesc</th>\n",
       "      <th>Datasource</th>\n",
       "      <th>Topic</th>\n",
       "      <th>Question</th>\n",
       "      <th>Data_Value_Type</th>\n",
       "      <th>Data_Value</th>\n",
       "      <th>Low_Confidence_Limit</th>\n",
       "      <th>High_Confidence_Limit</th>\n",
       "      <th>Sample_Size</th>\n",
       "      <th>Total</th>\n",
       "      <th>Age(years)</th>\n",
       "      <th>Education</th>\n",
       "      <th>Gender</th>\n",
       "      <th>Income</th>\n",
       "      <th>Race/Ethnicity</th>\n",
       "      <th>GeoLocation</th>\n",
       "      <th>ClassID</th>\n",
       "      <th>TopicID</th>\n",
       "      <th>QuestionID</th>\n",
       "      <th>DataValueTypeID</th>\n",
       "      <th>LocationID</th>\n",
       "      <th>StratificationCategory1</th>\n",
       "      <th>Stratification1</th>\n",
       "      <th>StratificationCategoryId1</th>\n",
       "      <th>StratificationID1</th>\n",
       "      <th>Class</th>\n",
       "    </tr>\n",
       "  </thead>\n",
       "  <tbody>\n",
       "    <tr>\n",
       "      <th>0</th>\n",
       "      <td>2011</td>\n",
       "      <td>2011</td>\n",
       "      <td>AL</td>\n",
       "      <td>Alabama</td>\n",
       "      <td>Behavioral Risk Factor Surveillance System</td>\n",
       "      <td>Obesity / Weight Status</td>\n",
       "      <td>Percent of adults aged 18 years and older who ...</td>\n",
       "      <td>Value</td>\n",
       "      <td>32.0</td>\n",
       "      <td>30.5</td>\n",
       "      <td>33.5</td>\n",
       "      <td>7304.0</td>\n",
       "      <td>Total</td>\n",
       "      <td>NaN</td>\n",
       "      <td>NaN</td>\n",
       "      <td>NaN</td>\n",
       "      <td>NaN</td>\n",
       "      <td>NaN</td>\n",
       "      <td>(32.84057112200048, -86.63186076199969)</td>\n",
       "      <td>OWS</td>\n",
       "      <td>OWS1</td>\n",
       "      <td>Q036</td>\n",
       "      <td>VALUE</td>\n",
       "      <td>1.0</td>\n",
       "      <td>Total</td>\n",
       "      <td>Total</td>\n",
       "      <td>OVR</td>\n",
       "      <td>OVERALL</td>\n",
       "      <td>Obesity / Weight Status</td>\n",
       "    </tr>\n",
       "    <tr>\n",
       "      <th>1</th>\n",
       "      <td>2011</td>\n",
       "      <td>2011</td>\n",
       "      <td>AL</td>\n",
       "      <td>Alabama</td>\n",
       "      <td>Behavioral Risk Factor Surveillance System</td>\n",
       "      <td>Obesity / Weight Status</td>\n",
       "      <td>Percent of adults aged 18 years and older who ...</td>\n",
       "      <td>Value</td>\n",
       "      <td>32.3</td>\n",
       "      <td>29.9</td>\n",
       "      <td>34.7</td>\n",
       "      <td>2581.0</td>\n",
       "      <td>NaN</td>\n",
       "      <td>NaN</td>\n",
       "      <td>NaN</td>\n",
       "      <td>Male</td>\n",
       "      <td>NaN</td>\n",
       "      <td>NaN</td>\n",
       "      <td>(32.84057112200048, -86.63186076199969)</td>\n",
       "      <td>OWS</td>\n",
       "      <td>OWS1</td>\n",
       "      <td>Q036</td>\n",
       "      <td>VALUE</td>\n",
       "      <td>1.0</td>\n",
       "      <td>Gender</td>\n",
       "      <td>Male</td>\n",
       "      <td>GEN</td>\n",
       "      <td>MALE</td>\n",
       "      <td>Obesity / Weight Status</td>\n",
       "    </tr>\n",
       "    <tr>\n",
       "      <th>2</th>\n",
       "      <td>2011</td>\n",
       "      <td>2011</td>\n",
       "      <td>AL</td>\n",
       "      <td>Alabama</td>\n",
       "      <td>Behavioral Risk Factor Surveillance System</td>\n",
       "      <td>Obesity / Weight Status</td>\n",
       "      <td>Percent of adults aged 18 years and older who ...</td>\n",
       "      <td>Value</td>\n",
       "      <td>31.8</td>\n",
       "      <td>30.0</td>\n",
       "      <td>33.6</td>\n",
       "      <td>4723.0</td>\n",
       "      <td>NaN</td>\n",
       "      <td>NaN</td>\n",
       "      <td>NaN</td>\n",
       "      <td>Female</td>\n",
       "      <td>NaN</td>\n",
       "      <td>NaN</td>\n",
       "      <td>(32.84057112200048, -86.63186076199969)</td>\n",
       "      <td>OWS</td>\n",
       "      <td>OWS1</td>\n",
       "      <td>Q036</td>\n",
       "      <td>VALUE</td>\n",
       "      <td>1.0</td>\n",
       "      <td>Gender</td>\n",
       "      <td>Female</td>\n",
       "      <td>GEN</td>\n",
       "      <td>FEMALE</td>\n",
       "      <td>Obesity / Weight Status</td>\n",
       "    </tr>\n",
       "    <tr>\n",
       "      <th>3</th>\n",
       "      <td>2011</td>\n",
       "      <td>2011</td>\n",
       "      <td>AL</td>\n",
       "      <td>Alabama</td>\n",
       "      <td>Behavioral Risk Factor Surveillance System</td>\n",
       "      <td>Obesity / Weight Status</td>\n",
       "      <td>Percent of adults aged 18 years and older who ...</td>\n",
       "      <td>Value</td>\n",
       "      <td>33.6</td>\n",
       "      <td>29.9</td>\n",
       "      <td>37.6</td>\n",
       "      <td>1153.0</td>\n",
       "      <td>NaN</td>\n",
       "      <td>NaN</td>\n",
       "      <td>Less than high school</td>\n",
       "      <td>NaN</td>\n",
       "      <td>NaN</td>\n",
       "      <td>NaN</td>\n",
       "      <td>(32.84057112200048, -86.63186076199969)</td>\n",
       "      <td>OWS</td>\n",
       "      <td>OWS1</td>\n",
       "      <td>Q036</td>\n",
       "      <td>VALUE</td>\n",
       "      <td>1.0</td>\n",
       "      <td>Education</td>\n",
       "      <td>Less than high school</td>\n",
       "      <td>EDU</td>\n",
       "      <td>EDUHS</td>\n",
       "      <td>Obesity / Weight Status</td>\n",
       "    </tr>\n",
       "    <tr>\n",
       "      <th>4</th>\n",
       "      <td>2011</td>\n",
       "      <td>2011</td>\n",
       "      <td>AL</td>\n",
       "      <td>Alabama</td>\n",
       "      <td>Behavioral Risk Factor Surveillance System</td>\n",
       "      <td>Obesity / Weight Status</td>\n",
       "      <td>Percent of adults aged 18 years and older who ...</td>\n",
       "      <td>Value</td>\n",
       "      <td>32.8</td>\n",
       "      <td>30.2</td>\n",
       "      <td>35.6</td>\n",
       "      <td>2402.0</td>\n",
       "      <td>NaN</td>\n",
       "      <td>NaN</td>\n",
       "      <td>High school graduate</td>\n",
       "      <td>NaN</td>\n",
       "      <td>NaN</td>\n",
       "      <td>NaN</td>\n",
       "      <td>(32.84057112200048, -86.63186076199969)</td>\n",
       "      <td>OWS</td>\n",
       "      <td>OWS1</td>\n",
       "      <td>Q036</td>\n",
       "      <td>VALUE</td>\n",
       "      <td>1.0</td>\n",
       "      <td>Education</td>\n",
       "      <td>High school graduate</td>\n",
       "      <td>EDU</td>\n",
       "      <td>EDUHSGRAD</td>\n",
       "      <td>Obesity / Weight Status</td>\n",
       "    </tr>\n",
       "  </tbody>\n",
       "</table>\n",
       "</div>"
      ],
      "text/plain": [
       "   YearStart  YearEnd  ... StratificationID1                    Class\n",
       "0       2011     2011  ...           OVERALL  Obesity / Weight Status\n",
       "1       2011     2011  ...              MALE  Obesity / Weight Status\n",
       "2       2011     2011  ...            FEMALE  Obesity / Weight Status\n",
       "3       2011     2011  ...             EDUHS  Obesity / Weight Status\n",
       "4       2011     2011  ...         EDUHSGRAD  Obesity / Weight Status\n",
       "\n",
       "[5 rows x 29 columns]"
      ]
     },
     "execution_count": 3,
     "metadata": {
      "tags": []
     },
     "output_type": "execute_result"
    }
   ],
   "source": [
    "df.head()"
   ]
  },
  {
   "cell_type": "code",
   "execution_count": 4,
   "metadata": {
    "id": "wKWqJocyeCxb"
   },
   "outputs": [],
   "source": [
    "df1=pd.read_csv('Nutrition__Physical_Activity__and_Obesity_-_Behavioral_Risk_Factor_Surveillance_System')"
   ]
  },
  {
   "cell_type": "code",
   "execution_count": 5,
   "metadata": {
    "colab": {
     "base_uri": "https://localhost:8080/"
    },
    "id": "5F26JAGBX4yc",
    "outputId": "8c765632-7a34-4919-e318-a84e27b47824"
   },
   "outputs": [
    {
     "data": {
      "text/plain": [
       "YearStart                        0\n",
       "YearEnd                          0\n",
       "LocationAbbr                     0\n",
       "LocationDesc                     0\n",
       "Datasource                       0\n",
       "Topic                            0\n",
       "Question                         0\n",
       "Data_Value_Type                  0\n",
       "Data_Value                       0\n",
       "Low_Confidence_Limit             0\n",
       "High_Confidence_Limit            0\n",
       "Sample_Size                      0\n",
       "Total                        50544\n",
       "Age(years)                   41530\n",
       "Education                    45592\n",
       "Gender                       49029\n",
       "Income                       39123\n",
       "Race/Ethnicity               42220\n",
       "GeoLocation                   1057\n",
       "ClassID                          0\n",
       "TopicID                          0\n",
       "QuestionID                       0\n",
       "DataValueTypeID                  0\n",
       "LocationID                       0\n",
       "StratificationCategory1          0\n",
       "Stratification1                  0\n",
       "StratificationCategoryId1        0\n",
       "StratificationID1                0\n",
       "Class                            0\n",
       "dtype: int64"
      ]
     },
     "execution_count": 5,
     "metadata": {
      "tags": []
     },
     "output_type": "execute_result"
    }
   ],
   "source": [
    "df.isnull().sum()"
   ]
  },
  {
   "cell_type": "code",
   "execution_count": 6,
   "metadata": {
    "colab": {
     "base_uri": "https://localhost:8080/"
    },
    "id": "g-afbQU_YJ88",
    "outputId": "283d1136-210e-4281-c99d-7fa4557c528d"
   },
   "outputs": [
    {
     "data": {
      "text/plain": [
       "(52345, 29)"
      ]
     },
     "execution_count": 6,
     "metadata": {
      "tags": []
     },
     "output_type": "execute_result"
    }
   ],
   "source": [
    "df.shape"
   ]
  },
  {
   "cell_type": "code",
   "execution_count": 7,
   "metadata": {
    "colab": {
     "base_uri": "https://localhost:8080/",
     "height": 284
    },
    "id": "QvkYbC4bbVvI",
    "outputId": "ad3e11da-2117-4997-8a03-ad66cd03486a"
   },
   "outputs": [
    {
     "data": {
      "text/html": [
       "<div>\n",
       "<style scoped>\n",
       "    .dataframe tbody tr th:only-of-type {\n",
       "        vertical-align: middle;\n",
       "    }\n",
       "\n",
       "    .dataframe tbody tr th {\n",
       "        vertical-align: top;\n",
       "    }\n",
       "\n",
       "    .dataframe thead th {\n",
       "        text-align: right;\n",
       "    }\n",
       "</style>\n",
       "<table border=\"1\" class=\"dataframe\">\n",
       "  <thead>\n",
       "    <tr style=\"text-align: right;\">\n",
       "      <th></th>\n",
       "      <th>YearStart</th>\n",
       "      <th>YearEnd</th>\n",
       "      <th>Data_Value</th>\n",
       "      <th>Low_Confidence_Limit</th>\n",
       "      <th>High_Confidence_Limit</th>\n",
       "      <th>Sample_Size</th>\n",
       "      <th>LocationID</th>\n",
       "    </tr>\n",
       "  </thead>\n",
       "  <tbody>\n",
       "    <tr>\n",
       "      <th>count</th>\n",
       "      <td>52345.000000</td>\n",
       "      <td>52345.000000</td>\n",
       "      <td>52345.000000</td>\n",
       "      <td>52345.000000</td>\n",
       "      <td>52345.000000</td>\n",
       "      <td>52345.000000</td>\n",
       "      <td>52345.000000</td>\n",
       "    </tr>\n",
       "    <tr>\n",
       "      <th>mean</th>\n",
       "      <td>2012.321081</td>\n",
       "      <td>2012.321081</td>\n",
       "      <td>31.356217</td>\n",
       "      <td>27.114031</td>\n",
       "      <td>36.155544</td>\n",
       "      <td>4021.174215</td>\n",
       "      <td>29.698182</td>\n",
       "    </tr>\n",
       "    <tr>\n",
       "      <th>std</th>\n",
       "      <td>1.101964</td>\n",
       "      <td>1.101964</td>\n",
       "      <td>9.797423</td>\n",
       "      <td>9.590796</td>\n",
       "      <td>10.806611</td>\n",
       "      <td>20315.596445</td>\n",
       "      <td>16.042853</td>\n",
       "    </tr>\n",
       "    <tr>\n",
       "      <th>min</th>\n",
       "      <td>2011.000000</td>\n",
       "      <td>2011.000000</td>\n",
       "      <td>0.900000</td>\n",
       "      <td>0.300000</td>\n",
       "      <td>3.000000</td>\n",
       "      <td>50.000000</td>\n",
       "      <td>1.000000</td>\n",
       "    </tr>\n",
       "    <tr>\n",
       "      <th>25%</th>\n",
       "      <td>2011.000000</td>\n",
       "      <td>2011.000000</td>\n",
       "      <td>24.382296</td>\n",
       "      <td>20.300000</td>\n",
       "      <td>28.400000</td>\n",
       "      <td>598.000000</td>\n",
       "      <td>16.820943</td>\n",
       "    </tr>\n",
       "    <tr>\n",
       "      <th>50%</th>\n",
       "      <td>2013.000000</td>\n",
       "      <td>2013.000000</td>\n",
       "      <td>31.128517</td>\n",
       "      <td>26.900000</td>\n",
       "      <td>36.000000</td>\n",
       "      <td>1263.000000</td>\n",
       "      <td>29.768057</td>\n",
       "    </tr>\n",
       "    <tr>\n",
       "      <th>75%</th>\n",
       "      <td>2013.000000</td>\n",
       "      <td>2013.000000</td>\n",
       "      <td>37.423078</td>\n",
       "      <td>33.333449</td>\n",
       "      <td>42.600000</td>\n",
       "      <td>2592.000000</td>\n",
       "      <td>42.619025</td>\n",
       "    </tr>\n",
       "    <tr>\n",
       "      <th>max</th>\n",
       "      <td>2014.000000</td>\n",
       "      <td>2014.000000</td>\n",
       "      <td>75.300000</td>\n",
       "      <td>69.500000</td>\n",
       "      <td>87.700000</td>\n",
       "      <td>475078.000000</td>\n",
       "      <td>73.509261</td>\n",
       "    </tr>\n",
       "  </tbody>\n",
       "</table>\n",
       "</div>"
      ],
      "text/plain": [
       "          YearStart       YearEnd  ...    Sample_Size    LocationID\n",
       "count  52345.000000  52345.000000  ...   52345.000000  52345.000000\n",
       "mean    2012.321081   2012.321081  ...    4021.174215     29.698182\n",
       "std        1.101964      1.101964  ...   20315.596445     16.042853\n",
       "min     2011.000000   2011.000000  ...      50.000000      1.000000\n",
       "25%     2011.000000   2011.000000  ...     598.000000     16.820943\n",
       "50%     2013.000000   2013.000000  ...    1263.000000     29.768057\n",
       "75%     2013.000000   2013.000000  ...    2592.000000     42.619025\n",
       "max     2014.000000   2014.000000  ...  475078.000000     73.509261\n",
       "\n",
       "[8 rows x 7 columns]"
      ]
     },
     "execution_count": 7,
     "metadata": {
      "tags": []
     },
     "output_type": "execute_result"
    }
   ],
   "source": [
    "df.describe()"
   ]
  },
  {
   "cell_type": "code",
   "execution_count": 8,
   "metadata": {
    "id": "pz0AKsRBYRA7"
   },
   "outputs": [],
   "source": [
    "df.drop(columns=['Total','Age(years)','Education','Gender','Income','Race/Ethnicity','GeoLocation','YearStart','YearEnd','LocationAbbr','LocationDesc','Datasource','Topic','Question','ClassID','TopicID','QuestionID','DataValueTypeID','LocationID'],inplace=True)"
   ]
  },
  {
   "cell_type": "code",
   "execution_count": 68,
   "metadata": {
    "id": "YEqZDtlFeKIb"
   },
   "outputs": [],
   "source": [
    "df1.drop(columns=['Total','Age(years)','Education','Gender','Income','Race/Ethnicity','GeoLocation','YearStart','YearEnd','LocationAbbr','LocationDesc','Datasource','Topic','Question','ClassID','TopicID','QuestionID','DataValueTypeID','LocationID'],inplace=True)"
   ]
  },
  {
   "cell_type": "code",
   "execution_count": 10,
   "metadata": {
    "colab": {
     "base_uri": "https://localhost:8080/",
     "height": 467
    },
    "id": "Bkzty3qyYppw",
    "outputId": "e4c79bee-661a-4bbe-a667-68847d198004"
   },
   "outputs": [
    {
     "data": {
      "text/html": [
       "<div>\n",
       "<style scoped>\n",
       "    .dataframe tbody tr th:only-of-type {\n",
       "        vertical-align: middle;\n",
       "    }\n",
       "\n",
       "    .dataframe tbody tr th {\n",
       "        vertical-align: top;\n",
       "    }\n",
       "\n",
       "    .dataframe thead th {\n",
       "        text-align: right;\n",
       "    }\n",
       "</style>\n",
       "<table border=\"1\" class=\"dataframe\">\n",
       "  <thead>\n",
       "    <tr style=\"text-align: right;\">\n",
       "      <th></th>\n",
       "      <th>Data_Value_Type</th>\n",
       "      <th>Data_Value</th>\n",
       "      <th>Low_Confidence_Limit</th>\n",
       "      <th>High_Confidence_Limit</th>\n",
       "      <th>Sample_Size</th>\n",
       "      <th>StratificationCategory1</th>\n",
       "      <th>Stratification1</th>\n",
       "      <th>StratificationCategoryId1</th>\n",
       "      <th>StratificationID1</th>\n",
       "      <th>Class</th>\n",
       "    </tr>\n",
       "  </thead>\n",
       "  <tbody>\n",
       "    <tr>\n",
       "      <th>0</th>\n",
       "      <td>Value</td>\n",
       "      <td>32.0</td>\n",
       "      <td>30.5</td>\n",
       "      <td>33.5</td>\n",
       "      <td>7304.0</td>\n",
       "      <td>Total</td>\n",
       "      <td>Total</td>\n",
       "      <td>OVR</td>\n",
       "      <td>OVERALL</td>\n",
       "      <td>Obesity / Weight Status</td>\n",
       "    </tr>\n",
       "    <tr>\n",
       "      <th>1</th>\n",
       "      <td>Value</td>\n",
       "      <td>32.3</td>\n",
       "      <td>29.9</td>\n",
       "      <td>34.7</td>\n",
       "      <td>2581.0</td>\n",
       "      <td>Gender</td>\n",
       "      <td>Male</td>\n",
       "      <td>GEN</td>\n",
       "      <td>MALE</td>\n",
       "      <td>Obesity / Weight Status</td>\n",
       "    </tr>\n",
       "    <tr>\n",
       "      <th>2</th>\n",
       "      <td>Value</td>\n",
       "      <td>31.8</td>\n",
       "      <td>30.0</td>\n",
       "      <td>33.6</td>\n",
       "      <td>4723.0</td>\n",
       "      <td>Gender</td>\n",
       "      <td>Female</td>\n",
       "      <td>GEN</td>\n",
       "      <td>FEMALE</td>\n",
       "      <td>Obesity / Weight Status</td>\n",
       "    </tr>\n",
       "    <tr>\n",
       "      <th>3</th>\n",
       "      <td>Value</td>\n",
       "      <td>33.6</td>\n",
       "      <td>29.9</td>\n",
       "      <td>37.6</td>\n",
       "      <td>1153.0</td>\n",
       "      <td>Education</td>\n",
       "      <td>Less than high school</td>\n",
       "      <td>EDU</td>\n",
       "      <td>EDUHS</td>\n",
       "      <td>Obesity / Weight Status</td>\n",
       "    </tr>\n",
       "    <tr>\n",
       "      <th>4</th>\n",
       "      <td>Value</td>\n",
       "      <td>32.8</td>\n",
       "      <td>30.2</td>\n",
       "      <td>35.6</td>\n",
       "      <td>2402.0</td>\n",
       "      <td>Education</td>\n",
       "      <td>High school graduate</td>\n",
       "      <td>EDU</td>\n",
       "      <td>EDUHSGRAD</td>\n",
       "      <td>Obesity / Weight Status</td>\n",
       "    </tr>\n",
       "  </tbody>\n",
       "</table>\n",
       "</div>"
      ],
      "text/plain": [
       "  Data_Value_Type  Data_Value  ...  StratificationID1                    Class\n",
       "0           Value        32.0  ...            OVERALL  Obesity / Weight Status\n",
       "1           Value        32.3  ...               MALE  Obesity / Weight Status\n",
       "2           Value        31.8  ...             FEMALE  Obesity / Weight Status\n",
       "3           Value        33.6  ...              EDUHS  Obesity / Weight Status\n",
       "4           Value        32.8  ...          EDUHSGRAD  Obesity / Weight Status\n",
       "\n",
       "[5 rows x 10 columns]"
      ]
     },
     "execution_count": 10,
     "metadata": {
      "tags": []
     },
     "output_type": "execute_result"
    }
   ],
   "source": [
    "df.head()"
   ]
  },
  {
   "cell_type": "markdown",
   "metadata": {
    "id": "IYLOMH3LY1Yz"
   },
   "source": []
  },
  {
   "cell_type": "code",
   "execution_count": 11,
   "metadata": {
    "colab": {
     "base_uri": "https://localhost:8080/"
    },
    "id": "bucxNsbZYqkL",
    "outputId": "701ccee0-ec96-41fa-b9d2-4354dd513277"
   },
   "outputs": [
    {
     "data": {
      "text/plain": [
       "Data_Value_Type              False\n",
       "Data_Value                   False\n",
       "Low_Confidence_Limit         False\n",
       "High_Confidence_Limit        False\n",
       "Sample_Size                  False\n",
       "StratificationCategory1      False\n",
       "Stratification1              False\n",
       "StratificationCategoryId1    False\n",
       "StratificationID1            False\n",
       "Class                        False\n",
       "dtype: bool"
      ]
     },
     "execution_count": 11,
     "metadata": {
      "tags": []
     },
     "output_type": "execute_result"
    }
   ],
   "source": [
    "df.isnull().any()"
   ]
  },
  {
   "cell_type": "code",
   "execution_count": 12,
   "metadata": {
    "id": "n1Fv_z9qYxC3"
   },
   "outputs": [],
   "source": [
    "import matplotlib.pyplot as plt\n",
    "%matplotlib inline"
   ]
  },
  {
   "cell_type": "code",
   "execution_count": 13,
   "metadata": {
    "colab": {
     "base_uri": "https://localhost:8080/",
     "height": 429
    },
    "id": "cKJ9pweUbnr1",
    "outputId": "7fe6bd19-adb8-44ea-bf27-eee777391c1d"
   },
   "outputs": [
    {
     "data": {
      "image/png": "[encoded data removed]",
      "text/plain": [
       "<Figure size 1080x504 with 1 Axes>"
      ]
     },
     "metadata": {
      "needs_background": "light",
      "tags": []
     },
     "output_type": "display_data"
    }
   ],
   "source": [
    "plt.figure(figsize=(15,7))\n",
    "df.boxplot()\n",
    "plt.show()"
   ]
  },
  {
   "cell_type": "code",
   "execution_count": 14,
   "metadata": {
    "id": "HuFjSR8NbnuU"
   },
   "outputs": [],
   "source": [
    "df2=df.iloc[:,[1,2,3]]"
   ]
  },
  {
   "cell_type": "code",
   "execution_count": 15,
   "metadata": {
    "colab": {
     "base_uri": "https://localhost:8080/",
     "height": 567
    },
    "id": "0DJ5GjoHbnz4",
    "outputId": "afcd46c8-2ec9-4b12-b15a-9e771e751c7c"
   },
   "outputs": [
    {
     "data": {
      "text/plain": [
       "<seaborn.axisgrid.PairGrid at 0x7f299c4a8450>"
      ]
     },
     "execution_count": 15,
     "metadata": {
      "tags": []
     },
     "output_type": "execute_result"
    },
    {
     "data": {
      "image/png": "[encoded data removed]",
      "text/plain": [
       "<Figure size 540x540 with 12 Axes>"
      ]
     },
     "metadata": {
      "needs_background": "light",
      "tags": []
     },
     "output_type": "display_data"
    }
   ],
   "source": [
    "import seaborn as sns\n",
    "sns.pairplot(df2)"
   ]
  },
  {
   "cell_type": "code",
   "execution_count": 16,
   "metadata": {
    "colab": {
     "base_uri": "https://localhost:8080/",
     "height": 467
    },
    "id": "ZTZ5ZjZGZJvR",
    "outputId": "836843ce-d657-400a-b657-18c863acb061"
   },
   "outputs": [
    {
     "data": {
      "text/html": [
       "<div>\n",
       "<style scoped>\n",
       "    .dataframe tbody tr th:only-of-type {\n",
       "        vertical-align: middle;\n",
       "    }\n",
       "\n",
       "    .dataframe tbody tr th {\n",
       "        vertical-align: top;\n",
       "    }\n",
       "\n",
       "    .dataframe thead th {\n",
       "        text-align: right;\n",
       "    }\n",
       "</style>\n",
       "<table border=\"1\" class=\"dataframe\">\n",
       "  <thead>\n",
       "    <tr style=\"text-align: right;\">\n",
       "      <th></th>\n",
       "      <th>Data_Value_Type</th>\n",
       "      <th>Data_Value</th>\n",
       "      <th>Low_Confidence_Limit</th>\n",
       "      <th>High_Confidence_Limit</th>\n",
       "      <th>Sample_Size</th>\n",
       "      <th>StratificationCategory1</th>\n",
       "      <th>Stratification1</th>\n",
       "      <th>StratificationCategoryId1</th>\n",
       "      <th>StratificationID1</th>\n",
       "      <th>Class</th>\n",
       "    </tr>\n",
       "  </thead>\n",
       "  <tbody>\n",
       "    <tr>\n",
       "      <th>0</th>\n",
       "      <td>Value</td>\n",
       "      <td>32.0</td>\n",
       "      <td>30.5</td>\n",
       "      <td>33.5</td>\n",
       "      <td>7304.0</td>\n",
       "      <td>Total</td>\n",
       "      <td>Total</td>\n",
       "      <td>OVR</td>\n",
       "      <td>OVERALL</td>\n",
       "      <td>Obesity / Weight Status</td>\n",
       "    </tr>\n",
       "    <tr>\n",
       "      <th>1</th>\n",
       "      <td>Value</td>\n",
       "      <td>32.3</td>\n",
       "      <td>29.9</td>\n",
       "      <td>34.7</td>\n",
       "      <td>2581.0</td>\n",
       "      <td>Gender</td>\n",
       "      <td>Male</td>\n",
       "      <td>GEN</td>\n",
       "      <td>MALE</td>\n",
       "      <td>Obesity / Weight Status</td>\n",
       "    </tr>\n",
       "    <tr>\n",
       "      <th>2</th>\n",
       "      <td>Value</td>\n",
       "      <td>31.8</td>\n",
       "      <td>30.0</td>\n",
       "      <td>33.6</td>\n",
       "      <td>4723.0</td>\n",
       "      <td>Gender</td>\n",
       "      <td>Female</td>\n",
       "      <td>GEN</td>\n",
       "      <td>FEMALE</td>\n",
       "      <td>Obesity / Weight Status</td>\n",
       "    </tr>\n",
       "    <tr>\n",
       "      <th>3</th>\n",
       "      <td>Value</td>\n",
       "      <td>33.6</td>\n",
       "      <td>29.9</td>\n",
       "      <td>37.6</td>\n",
       "      <td>1153.0</td>\n",
       "      <td>Education</td>\n",
       "      <td>Less than high school</td>\n",
       "      <td>EDU</td>\n",
       "      <td>EDUHS</td>\n",
       "      <td>Obesity / Weight Status</td>\n",
       "    </tr>\n",
       "    <tr>\n",
       "      <th>4</th>\n",
       "      <td>Value</td>\n",
       "      <td>32.8</td>\n",
       "      <td>30.2</td>\n",
       "      <td>35.6</td>\n",
       "      <td>2402.0</td>\n",
       "      <td>Education</td>\n",
       "      <td>High school graduate</td>\n",
       "      <td>EDU</td>\n",
       "      <td>EDUHSGRAD</td>\n",
       "      <td>Obesity / Weight Status</td>\n",
       "    </tr>\n",
       "  </tbody>\n",
       "</table>\n",
       "</div>"
      ],
      "text/plain": [
       "  Data_Value_Type  Data_Value  ...  StratificationID1                    Class\n",
       "0           Value        32.0  ...            OVERALL  Obesity / Weight Status\n",
       "1           Value        32.3  ...               MALE  Obesity / Weight Status\n",
       "2           Value        31.8  ...             FEMALE  Obesity / Weight Status\n",
       "3           Value        33.6  ...              EDUHS  Obesity / Weight Status\n",
       "4           Value        32.8  ...          EDUHSGRAD  Obesity / Weight Status\n",
       "\n",
       "[5 rows x 10 columns]"
      ]
     },
     "execution_count": 16,
     "metadata": {
      "tags": []
     },
     "output_type": "execute_result"
    }
   ],
   "source": [
    "df.head()"
   ]
  },
  {
   "cell_type": "code",
   "execution_count": 17,
   "metadata": {
    "colab": {
     "base_uri": "https://localhost:8080/"
    },
    "id": "0ikq3jUwZLRG",
    "outputId": "37598ea2-1966-4a97-a6db-368c09db078b"
   },
   "outputs": [
    {
     "data": {
      "text/plain": [
       "array(['Value'], dtype=object)"
      ]
     },
     "execution_count": 17,
     "metadata": {
      "tags": []
     },
     "output_type": "execute_result"
    }
   ],
   "source": [
    "df['Data_Value_Type'].unique()"
   ]
  },
  {
   "cell_type": "code",
   "execution_count": 18,
   "metadata": {
    "id": "_VYZvU00Z7Nv"
   },
   "outputs": [],
   "source": [
    "df.drop(columns=['Data_Value_Type'],inplace=True)"
   ]
  },
  {
   "cell_type": "markdown",
   "metadata": {
    "id": "vPyy6iY2cxlw"
   },
   "source": [
    "# Frequency encoding\n"
   ]
  },
  {
   "cell_type": "code",
   "execution_count": 19,
   "metadata": {
    "id": "nVao543BaOYY"
   },
   "outputs": [],
   "source": [
    "from sklearn.preprocessing import LabelEncoder\n",
    "l=LabelEncoder()"
   ]
  },
  {
   "cell_type": "code",
   "execution_count": 69,
   "metadata": {
    "id": "uLVrdXOVabYd"
   },
   "outputs": [],
   "source": [
    "df['StratificationCategory1']=l.fit_transform(df['StratificationCategory1'])\n",
    "df1['StratificationCategory1']=l.fit_transform(df1['StratificationCategory1'])\n"
   ]
  },
  {
   "cell_type": "code",
   "execution_count": 70,
   "metadata": {
    "id": "doc-pjeUaguv"
   },
   "outputs": [],
   "source": [
    "df['StratificationCategoryId1']=l.fit_transform(df['StratificationCategoryId1'])\n",
    "df1['StratificationCategoryId1']=l.fit_transform(df1['StratificationCategoryId1'])\n",
    "\n"
   ]
  },
  {
   "cell_type": "code",
   "execution_count": 71,
   "metadata": {
    "id": "E7FH7IWeaktw"
   },
   "outputs": [],
   "source": [
    "df['Class']=l.fit_transform(df['Class'])\n",
    "df1['Class']=l.fit_transform(df1['Class'])\n",
    "\n"
   ]
  },
  {
   "cell_type": "code",
   "execution_count": 72,
   "metadata": {
    "id": "lkSSMj1_atUs"
   },
   "outputs": [],
   "source": [
    "frequency=df['Stratification1'].value_counts().to_dict()\n",
    "frequency1=df1['Stratification1'].value_counts().to_dict()\n"
   ]
  },
  {
   "cell_type": "code",
   "execution_count": 24,
   "metadata": {
    "colab": {
     "base_uri": "https://localhost:8080/"
    },
    "id": "2jGTa635bLG_",
    "outputId": "d09cdfe1-ce9a-48c9-d8ef-4f454bc14830"
   },
   "outputs": [
    {
     "data": {
      "text/plain": [
       "{'$15,000 - $24,999': 2041,\n",
       " '$25,000 - $34,999': 1990,\n",
       " '$35,000 - $49,999': 1992,\n",
       " '$50,000 - $74,999': 2010,\n",
       " '$75,000 or greater': 1801,\n",
       " '18 - 24': 2070,\n",
       " '2 or more races': 1829,\n",
       " '25 - 34': 1902,\n",
       " '35 - 44': 1989,\n",
       " '45 - 54': 1988,\n",
       " '55 - 64': 1984,\n",
       " '65 or older': 2105,\n",
       " 'American Indian/Alaska Native': 1324,\n",
       " 'Asian': 1256,\n",
       " 'College graduate': 1886,\n",
       " 'Data not reported': 2208,\n",
       " 'Female': 2103,\n",
       " 'Hawaiian/Pacific Islander': 78,\n",
       " 'High school graduate': 2180,\n",
       " 'Hispanic': 2046,\n",
       " 'Less than $15,000': 2195,\n",
       " 'Less than high school': 2050,\n",
       " 'Male': 2167,\n",
       " 'Non-Hispanic Black': 1624,\n",
       " 'Non-Hispanic White': 2159,\n",
       " 'Other': 756,\n",
       " 'Some college or technical school': 2223,\n",
       " 'Total': 2389}"
      ]
     },
     "execution_count": 24,
     "metadata": {
      "tags": []
     },
     "output_type": "execute_result"
    }
   ],
   "source": [
    "frequency"
   ]
  },
  {
   "cell_type": "code",
   "execution_count": 73,
   "metadata": {
    "id": "lFVs2F_MbMqs"
   },
   "outputs": [],
   "source": [
    "df1['Stratification1']=df1['Stratification1'].map(frequency1)"
   ]
  },
  {
   "cell_type": "code",
   "execution_count": 74,
   "metadata": {
    "id": "aohRCx1bdO-i"
   },
   "outputs": [],
   "source": [
    "df['Stratification1']=df['Stratification1'].map(frequency)"
   ]
  },
  {
   "cell_type": "code",
   "execution_count": 75,
   "metadata": {
    "id": "FMNPTg2kbaCr"
   },
   "outputs": [],
   "source": [
    "freq1=df1['StratificationID1'].value_counts().to_dict()"
   ]
  },
  {
   "cell_type": "code",
   "execution_count": 76,
   "metadata": {
    "id": "rYk6JGKZdi98"
   },
   "outputs": [],
   "source": [
    "freq=df['StratificationID1'].value_counts().to_dict()"
   ]
  },
  {
   "cell_type": "code",
   "execution_count": 77,
   "metadata": {
    "id": "8qQzwiCvb6R-"
   },
   "outputs": [],
   "source": [
    "df1['StratificationID1']=df1['StratificationID1'].map(freq1)"
   ]
  },
  {
   "cell_type": "code",
   "execution_count": 78,
   "metadata": {
    "id": "qSZp1g8jdYMF"
   },
   "outputs": [],
   "source": [
    "df['StratificationID1']=df['StratificationID1'].map(freq)"
   ]
  },
  {
   "cell_type": "code",
   "execution_count": 31,
   "metadata": {
    "colab": {
     "base_uri": "https://localhost:8080/",
     "height": 215
    },
    "id": "XjBaLVKLb_yB",
    "outputId": "6b9b0f7d-f813-402b-ae88-7c4952a1691e"
   },
   "outputs": [
    {
     "data": {
      "text/html": [
       "<div>\n",
       "<style scoped>\n",
       "    .dataframe tbody tr th:only-of-type {\n",
       "        vertical-align: middle;\n",
       "    }\n",
       "\n",
       "    .dataframe tbody tr th {\n",
       "        vertical-align: top;\n",
       "    }\n",
       "\n",
       "    .dataframe thead th {\n",
       "        text-align: right;\n",
       "    }\n",
       "</style>\n",
       "<table border=\"1\" class=\"dataframe\">\n",
       "  <thead>\n",
       "    <tr style=\"text-align: right;\">\n",
       "      <th></th>\n",
       "      <th>Data_Value</th>\n",
       "      <th>Low_Confidence_Limit</th>\n",
       "      <th>High_Confidence_Limit</th>\n",
       "      <th>Sample_Size</th>\n",
       "      <th>StratificationCategory1</th>\n",
       "      <th>Stratification1</th>\n",
       "      <th>StratificationCategoryId1</th>\n",
       "      <th>StratificationID1</th>\n",
       "      <th>Class</th>\n",
       "    </tr>\n",
       "  </thead>\n",
       "  <tbody>\n",
       "    <tr>\n",
       "      <th>0</th>\n",
       "      <td>32.0</td>\n",
       "      <td>30.5</td>\n",
       "      <td>33.5</td>\n",
       "      <td>7304.0</td>\n",
       "      <td>5</td>\n",
       "      <td>2389</td>\n",
       "      <td>4</td>\n",
       "      <td>2332</td>\n",
       "      <td>1</td>\n",
       "    </tr>\n",
       "    <tr>\n",
       "      <th>1</th>\n",
       "      <td>32.3</td>\n",
       "      <td>29.9</td>\n",
       "      <td>34.7</td>\n",
       "      <td>2581.0</td>\n",
       "      <td>2</td>\n",
       "      <td>2167</td>\n",
       "      <td>2</td>\n",
       "      <td>2110</td>\n",
       "      <td>1</td>\n",
       "    </tr>\n",
       "    <tr>\n",
       "      <th>2</th>\n",
       "      <td>31.8</td>\n",
       "      <td>30.0</td>\n",
       "      <td>33.6</td>\n",
       "      <td>4723.0</td>\n",
       "      <td>2</td>\n",
       "      <td>2103</td>\n",
       "      <td>2</td>\n",
       "      <td>2095</td>\n",
       "      <td>1</td>\n",
       "    </tr>\n",
       "    <tr>\n",
       "      <th>3</th>\n",
       "      <td>33.6</td>\n",
       "      <td>29.9</td>\n",
       "      <td>37.6</td>\n",
       "      <td>1153.0</td>\n",
       "      <td>1</td>\n",
       "      <td>2050</td>\n",
       "      <td>1</td>\n",
       "      <td>1935</td>\n",
       "      <td>1</td>\n",
       "    </tr>\n",
       "    <tr>\n",
       "      <th>4</th>\n",
       "      <td>32.8</td>\n",
       "      <td>30.2</td>\n",
       "      <td>35.6</td>\n",
       "      <td>2402.0</td>\n",
       "      <td>1</td>\n",
       "      <td>2180</td>\n",
       "      <td>1</td>\n",
       "      <td>2108</td>\n",
       "      <td>1</td>\n",
       "    </tr>\n",
       "  </tbody>\n",
       "</table>\n",
       "</div>"
      ],
      "text/plain": [
       "   Data_Value  Low_Confidence_Limit  ...  StratificationID1  Class\n",
       "0        32.0                  30.5  ...               2332      1\n",
       "1        32.3                  29.9  ...               2110      1\n",
       "2        31.8                  30.0  ...               2095      1\n",
       "3        33.6                  29.9  ...               1935      1\n",
       "4        32.8                  30.2  ...               2108      1\n",
       "\n",
       "[5 rows x 9 columns]"
      ]
     },
     "execution_count": 31,
     "metadata": {
      "tags": []
     },
     "output_type": "execute_result"
    }
   ],
   "source": [
    "df.head()"
   ]
  },
  {
   "cell_type": "code",
   "execution_count": 32,
   "metadata": {
    "colab": {
     "base_uri": "https://localhost:8080/",
     "height": 567
    },
    "id": "xTgVuiH2drvu",
    "outputId": "0a4454bb-8f63-431f-e27a-c5860dd94bc2"
   },
   "outputs": [
    {
     "data": {
      "text/plain": [
       "<seaborn.axisgrid.PairGrid at 0x7f29818acb90>"
      ]
     },
     "execution_count": 32,
     "metadata": {
      "tags": []
     },
     "output_type": "execute_result"
    },
    {
     "data": {
      "image/png": "[encoded data removed]",
      "text/plain": [
       "<Figure size 540x540 with 12 Axes>"
      ]
     },
     "metadata": {
      "needs_background": "light",
      "tags": []
     },
     "output_type": "display_data"
    }
   ],
   "source": [
    "df3=df.iloc[:,[4,5,6]]\n",
    "sns.pairplot(df3)"
   ]
  },
  {
   "cell_type": "code",
   "execution_count": 33,
   "metadata": {
    "colab": {
     "base_uri": "https://localhost:8080/",
     "height": 350
    },
    "id": "kyI09DIpeC_i",
    "outputId": "7d2c727b-30ba-400b-cddc-0e651c9aacef"
   },
   "outputs": [
    {
     "name": "stderr",
     "output_type": "stream",
     "text": [
      "/usr/local/lib/python3.7/dist-packages/seaborn/_decorators.py:43: FutureWarning: Pass the following variable as a keyword arg: x. From version 0.12, the only valid positional argument will be `data`, and passing other arguments without an explicit keyword will result in an error or misinterpretation.\n",
      "  FutureWarning\n"
     ]
    },
    {
     "data": {
      "text/plain": [
       "<matplotlib.axes._subplots.AxesSubplot at 0x7f298112ee50>"
      ]
     },
     "execution_count": 33,
     "metadata": {
      "tags": []
     },
     "output_type": "execute_result"
    },
    {
     "data": {
      "image/png": "[encoded data removed]",
      "text/plain": [
       "<Figure size 432x288 with 1 Axes>"
      ]
     },
     "metadata": {
      "needs_background": "light",
      "tags": []
     },
     "output_type": "display_data"
    }
   ],
   "source": [
    "sns.countplot(df['Class'])"
   ]
  },
  {
   "cell_type": "code",
   "execution_count": 34,
   "metadata": {
    "colab": {
     "base_uri": "https://localhost:8080/",
     "height": 350
    },
    "id": "0QvySokjeVrU",
    "outputId": "71126687-a07a-4e3d-9e9c-bfc6bcfb4669"
   },
   "outputs": [
    {
     "name": "stderr",
     "output_type": "stream",
     "text": [
      "/usr/local/lib/python3.7/dist-packages/seaborn/_decorators.py:43: FutureWarning: Pass the following variable as a keyword arg: x. From version 0.12, the only valid positional argument will be `data`, and passing other arguments without an explicit keyword will result in an error or misinterpretation.\n",
      "  FutureWarning\n"
     ]
    },
    {
     "data": {
      "text/plain": [
       "<matplotlib.axes._subplots.AxesSubplot at 0x7f298105eed0>"
      ]
     },
     "execution_count": 34,
     "metadata": {
      "tags": []
     },
     "output_type": "execute_result"
    },
    {
     "data": {
      "image/png": "[encoded data removed]",
      "text/plain": [
       "<Figure size 432x288 with 1 Axes>"
      ]
     },
     "metadata": {
      "needs_background": "light",
      "tags": []
     },
     "output_type": "display_data"
    }
   ],
   "source": [
    "sns.countplot(df['StratificationCategory1'])"
   ]
  },
  {
   "cell_type": "code",
   "execution_count": 35,
   "metadata": {
    "id": "rMcJzxoFfDDm"
   },
   "outputs": [],
   "source": [
    "dd=pd.read_csv('Nutrition__Physical_Activity__and_Obesity_-_Behavioral_Risk_Factor_Surveillance_System')"
   ]
  },
  {
   "cell_type": "code",
   "execution_count": 36,
   "metadata": {
    "colab": {
     "base_uri": "https://localhost:8080/",
     "height": 635
    },
    "id": "JQ07AAZefFy9",
    "outputId": "de8af4ff-4c59-4e6d-e829-9d75d0334dc7"
   },
   "outputs": [
    {
     "data": {
      "text/html": [
       "<div>\n",
       "<style scoped>\n",
       "    .dataframe tbody tr th:only-of-type {\n",
       "        vertical-align: middle;\n",
       "    }\n",
       "\n",
       "    .dataframe tbody tr th {\n",
       "        vertical-align: top;\n",
       "    }\n",
       "\n",
       "    .dataframe thead th {\n",
       "        text-align: right;\n",
       "    }\n",
       "</style>\n",
       "<table border=\"1\" class=\"dataframe\">\n",
       "  <thead>\n",
       "    <tr style=\"text-align: right;\">\n",
       "      <th></th>\n",
       "      <th>YearStart</th>\n",
       "      <th>YearEnd</th>\n",
       "      <th>LocationAbbr</th>\n",
       "      <th>LocationDesc</th>\n",
       "      <th>Datasource</th>\n",
       "      <th>Topic</th>\n",
       "      <th>Question</th>\n",
       "      <th>Data_Value_Type</th>\n",
       "      <th>Low_Confidence_Limit</th>\n",
       "      <th>High_Confidence_Limit</th>\n",
       "      <th>Sample_Size</th>\n",
       "      <th>Total</th>\n",
       "      <th>Age(years)</th>\n",
       "      <th>Education</th>\n",
       "      <th>Gender</th>\n",
       "      <th>Income</th>\n",
       "      <th>Race/Ethnicity</th>\n",
       "      <th>GeoLocation</th>\n",
       "      <th>ClassID</th>\n",
       "      <th>TopicID</th>\n",
       "      <th>QuestionID</th>\n",
       "      <th>DataValueTypeID</th>\n",
       "      <th>LocationID</th>\n",
       "      <th>StratificationCategory1</th>\n",
       "      <th>Stratification1</th>\n",
       "      <th>StratificationCategoryId1</th>\n",
       "      <th>StratificationID1</th>\n",
       "      <th>Class</th>\n",
       "    </tr>\n",
       "  </thead>\n",
       "  <tbody>\n",
       "    <tr>\n",
       "      <th>0</th>\n",
       "      <td>2016</td>\n",
       "      <td>2016</td>\n",
       "      <td>US</td>\n",
       "      <td>National</td>\n",
       "      <td>Behavioral Risk Factor Surveillance System</td>\n",
       "      <td>Obesity / Weight Status</td>\n",
       "      <td>Percent of adults aged 18 years and older who ...</td>\n",
       "      <td>Value</td>\n",
       "      <td>34.9</td>\n",
       "      <td>35.5</td>\n",
       "      <td>438479.0</td>\n",
       "      <td>Total</td>\n",
       "      <td>NaN</td>\n",
       "      <td>NaN</td>\n",
       "      <td>NaN</td>\n",
       "      <td>NaN</td>\n",
       "      <td>NaN</td>\n",
       "      <td>NaN</td>\n",
       "      <td>OWS</td>\n",
       "      <td>OWS1</td>\n",
       "      <td>Q037</td>\n",
       "      <td>VALUE</td>\n",
       "      <td>59.0</td>\n",
       "      <td>Total</td>\n",
       "      <td>Total</td>\n",
       "      <td>OVR</td>\n",
       "      <td>OVERALL</td>\n",
       "      <td>Obesity / Weight Status</td>\n",
       "    </tr>\n",
       "    <tr>\n",
       "      <th>1</th>\n",
       "      <td>2016</td>\n",
       "      <td>2016</td>\n",
       "      <td>US</td>\n",
       "      <td>National</td>\n",
       "      <td>Behavioral Risk Factor Surveillance System</td>\n",
       "      <td>Obesity / Weight Status</td>\n",
       "      <td>Percent of adults aged 18 years and older who ...</td>\n",
       "      <td>Value</td>\n",
       "      <td>40.6</td>\n",
       "      <td>41.5</td>\n",
       "      <td>198440.0</td>\n",
       "      <td>NaN</td>\n",
       "      <td>NaN</td>\n",
       "      <td>NaN</td>\n",
       "      <td>Male</td>\n",
       "      <td>NaN</td>\n",
       "      <td>NaN</td>\n",
       "      <td>NaN</td>\n",
       "      <td>OWS</td>\n",
       "      <td>OWS1</td>\n",
       "      <td>Q037</td>\n",
       "      <td>VALUE</td>\n",
       "      <td>59.0</td>\n",
       "      <td>Gender</td>\n",
       "      <td>Male</td>\n",
       "      <td>GEN</td>\n",
       "      <td>MALE</td>\n",
       "      <td>Obesity / Weight Status</td>\n",
       "    </tr>\n",
       "    <tr>\n",
       "      <th>2</th>\n",
       "      <td>2016</td>\n",
       "      <td>2016</td>\n",
       "      <td>US</td>\n",
       "      <td>National</td>\n",
       "      <td>Behavioral Risk Factor Surveillance System</td>\n",
       "      <td>Obesity / Weight Status</td>\n",
       "      <td>Percent of adults aged 18 years and older who ...</td>\n",
       "      <td>Value</td>\n",
       "      <td>28.9</td>\n",
       "      <td>29.7</td>\n",
       "      <td>240000.0</td>\n",
       "      <td>NaN</td>\n",
       "      <td>NaN</td>\n",
       "      <td>NaN</td>\n",
       "      <td>Female</td>\n",
       "      <td>NaN</td>\n",
       "      <td>NaN</td>\n",
       "      <td>NaN</td>\n",
       "      <td>OWS</td>\n",
       "      <td>OWS1</td>\n",
       "      <td>Q037</td>\n",
       "      <td>VALUE</td>\n",
       "      <td>59.0</td>\n",
       "      <td>Gender</td>\n",
       "      <td>Female</td>\n",
       "      <td>GEN</td>\n",
       "      <td>FEMALE</td>\n",
       "      <td>Obesity / Weight Status</td>\n",
       "    </tr>\n",
       "    <tr>\n",
       "      <th>3</th>\n",
       "      <td>2016</td>\n",
       "      <td>2016</td>\n",
       "      <td>US</td>\n",
       "      <td>National</td>\n",
       "      <td>Behavioral Risk Factor Surveillance System</td>\n",
       "      <td>Obesity / Weight Status</td>\n",
       "      <td>Percent of adults aged 18 years and older who ...</td>\n",
       "      <td>Value</td>\n",
       "      <td>33.6</td>\n",
       "      <td>35.7</td>\n",
       "      <td>32325.0</td>\n",
       "      <td>NaN</td>\n",
       "      <td>NaN</td>\n",
       "      <td>Less than high school</td>\n",
       "      <td>NaN</td>\n",
       "      <td>NaN</td>\n",
       "      <td>NaN</td>\n",
       "      <td>NaN</td>\n",
       "      <td>OWS</td>\n",
       "      <td>OWS1</td>\n",
       "      <td>Q037</td>\n",
       "      <td>VALUE</td>\n",
       "      <td>59.0</td>\n",
       "      <td>Education</td>\n",
       "      <td>Less than high school</td>\n",
       "      <td>EDU</td>\n",
       "      <td>EDUHS</td>\n",
       "      <td>Obesity / Weight Status</td>\n",
       "    </tr>\n",
       "    <tr>\n",
       "      <th>4</th>\n",
       "      <td>2016</td>\n",
       "      <td>2016</td>\n",
       "      <td>US</td>\n",
       "      <td>National</td>\n",
       "      <td>Behavioral Risk Factor Surveillance System</td>\n",
       "      <td>Obesity / Weight Status</td>\n",
       "      <td>Percent of adults aged 18 years and older who ...</td>\n",
       "      <td>Value</td>\n",
       "      <td>33.7</td>\n",
       "      <td>34.8</td>\n",
       "      <td>123241.0</td>\n",
       "      <td>NaN</td>\n",
       "      <td>NaN</td>\n",
       "      <td>High school graduate</td>\n",
       "      <td>NaN</td>\n",
       "      <td>NaN</td>\n",
       "      <td>NaN</td>\n",
       "      <td>NaN</td>\n",
       "      <td>OWS</td>\n",
       "      <td>OWS1</td>\n",
       "      <td>Q037</td>\n",
       "      <td>VALUE</td>\n",
       "      <td>59.0</td>\n",
       "      <td>Education</td>\n",
       "      <td>High school graduate</td>\n",
       "      <td>EDU</td>\n",
       "      <td>EDUHSGRAD</td>\n",
       "      <td>Obesity / Weight Status</td>\n",
       "    </tr>\n",
       "  </tbody>\n",
       "</table>\n",
       "</div>"
      ],
      "text/plain": [
       "   YearStart  YearEnd  ... StratificationID1                    Class\n",
       "0       2016     2016  ...           OVERALL  Obesity / Weight Status\n",
       "1       2016     2016  ...              MALE  Obesity / Weight Status\n",
       "2       2016     2016  ...            FEMALE  Obesity / Weight Status\n",
       "3       2016     2016  ...             EDUHS  Obesity / Weight Status\n",
       "4       2016     2016  ...         EDUHSGRAD  Obesity / Weight Status\n",
       "\n",
       "[5 rows x 28 columns]"
      ]
     },
     "execution_count": 36,
     "metadata": {
      "tags": []
     },
     "output_type": "execute_result"
    }
   ],
   "source": [
    "dd.head()"
   ]
  },
  {
   "cell_type": "code",
   "execution_count": 37,
   "metadata": {
    "colab": {
     "base_uri": "https://localhost:8080/",
     "height": 660
    },
    "id": "uwd_8tzdfJYI",
    "outputId": "2617577c-64f7-4779-f7d9-fc09febed00f"
   },
   "outputs": [
    {
     "name": "stderr",
     "output_type": "stream",
     "text": [
      "/usr/local/lib/python3.7/dist-packages/seaborn/_decorators.py:43: FutureWarning: Pass the following variable as a keyword arg: x. From version 0.12, the only valid positional argument will be `data`, and passing other arguments without an explicit keyword will result in an error or misinterpretation.\n",
      "  FutureWarning\n"
     ]
    },
    {
     "data": {
      "image/png": "[encoded data removed]",
      "text/plain": [
       "<Figure size 1080x720 with 1 Axes>"
      ]
     },
     "metadata": {
      "needs_background": "light",
      "tags": []
     },
     "output_type": "display_data"
    }
   ],
   "source": [
    "plt.figure(figsize=(15,10))\n",
    "sns.countplot(dd['Question'])\n",
    "plt.show()"
   ]
  },
  {
   "cell_type": "code",
   "execution_count": 38,
   "metadata": {
    "colab": {
     "base_uri": "https://localhost:8080/",
     "height": 660
    },
    "id": "jaA_Ol8xfpwR",
    "outputId": "8bbdf69d-943b-4779-c9fb-28b99da1b162"
   },
   "outputs": [
    {
     "name": "stderr",
     "output_type": "stream",
     "text": [
      "/usr/local/lib/python3.7/dist-packages/seaborn/_decorators.py:43: FutureWarning: Pass the following variable as a keyword arg: x. From version 0.12, the only valid positional argument will be `data`, and passing other arguments without an explicit keyword will result in an error or misinterpretation.\n",
      "  FutureWarning\n"
     ]
    },
    {
     "data": {
      "image/png": "[encoded data removed]",
      "text/plain": [
       "<Figure size 1080x720 with 1 Axes>"
      ]
     },
     "metadata": {
      "needs_background": "light",
      "tags": []
     },
     "output_type": "display_data"
    }
   ],
   "source": [
    "plt.figure(figsize=(15,10))\n",
    "sns.countplot(dd['LocationAbbr'])\n",
    "plt.show()"
   ]
  },
  {
   "cell_type": "code",
   "execution_count": 39,
   "metadata": {
    "colab": {
     "base_uri": "https://localhost:8080/",
     "height": 402
    },
    "id": "X416DkMJguPF",
    "outputId": "6c51b4e2-da23-41d2-c977-011b5ef22e7d"
   },
   "outputs": [
    {
     "data": {
      "text/plain": [
       "<matplotlib.axes._subplots.AxesSubplot at 0x7f2981476910>"
      ]
     },
     "execution_count": 39,
     "metadata": {
      "tags": []
     },
     "output_type": "execute_result"
    },
    {
     "data": {
      "image/png": "[encoded data removed]",
      "text/plain": [
       "<Figure size 432x288 with 2 Axes>"
      ]
     },
     "metadata": {
      "needs_background": "light",
      "tags": []
     },
     "output_type": "display_data"
    }
   ],
   "source": [
    "sns.heatmap(df.corr())"
   ]
  },
  {
   "cell_type": "code",
   "execution_count": 40,
   "metadata": {
    "id": "otjcPG2ccBrR"
   },
   "outputs": [],
   "source": [
    "from sklearn.preprocessing import StandardScaler\n",
    "ss=StandardScaler()"
   ]
  },
  {
   "cell_type": "code",
   "execution_count": 41,
   "metadata": {
    "colab": {
     "base_uri": "https://localhost:8080/"
    },
    "id": "nj4vLx2hcIr9",
    "outputId": "76fd556d-97b7-4544-e5d2-710daed26fc1"
   },
   "outputs": [
    {
     "data": {
      "text/plain": [
       "array([[3.05000000e+01, 3.35000000e+01, 7.30400000e+03, ...,\n",
       "        4.00000000e+00, 2.33200000e+03, 1.00000000e+00],\n",
       "       [2.99000000e+01, 3.47000000e+01, 2.58100000e+03, ...,\n",
       "        2.00000000e+00, 2.11000000e+03, 1.00000000e+00],\n",
       "       [3.00000000e+01, 3.36000000e+01, 4.72300000e+03, ...,\n",
       "        2.00000000e+00, 2.09500000e+03, 1.00000000e+00],\n",
       "       ...,\n",
       "       [9.61752018e+00, 3.61326571e+01, 5.51394524e+01, ...,\n",
       "        5.00000000e+00, 1.24200000e+03, 0.00000000e+00],\n",
       "       [4.03135004e+01, 6.44464131e+01, 1.30535869e+02, ...,\n",
       "        5.00000000e+00, 1.98900000e+03, 0.00000000e+00],\n",
       "       [1.57517154e+01, 1.85846887e+01, 5.81900000e+03, ...,\n",
       "        2.00000000e+00, 2.09500000e+03, 0.00000000e+00]])"
      ]
     },
     "execution_count": 41,
     "metadata": {
      "tags": []
     },
     "output_type": "execute_result"
    }
   ],
   "source": [
    "x=df.iloc[:,[1,2,3,4,5,6,7,8]].values\n",
    "x"
   ]
  },
  {
   "cell_type": "code",
   "execution_count": 42,
   "metadata": {
    "id": "pknUGCUfcPPh"
   },
   "outputs": [],
   "source": [
    "y=df.iloc[:,[0]].values"
   ]
  },
  {
   "cell_type": "code",
   "execution_count": 43,
   "metadata": {
    "colab": {
     "base_uri": "https://localhost:8080/"
    },
    "id": "u8dD8ggwcX_U",
    "outputId": "49d04e8c-78ae-4ddb-9a39-dd66c3e6a209"
   },
   "outputs": [
    {
     "data": {
      "text/plain": [
       "array([[32.        ],\n",
       "       [32.3       ],\n",
       "       [31.8       ],\n",
       "       ...,\n",
       "       [19.67568445],\n",
       "       [52.53923942],\n",
       "       [17.16270647]])"
      ]
     },
     "execution_count": 43,
     "metadata": {
      "tags": []
     },
     "output_type": "execute_result"
    }
   ],
   "source": [
    "y\n"
   ]
  },
  {
   "cell_type": "code",
   "execution_count": 44,
   "metadata": {
    "id": "yQAit3u4cY9P"
   },
   "outputs": [],
   "source": [
    "x=ss.fit_transform(x)"
   ]
  },
  {
   "cell_type": "code",
   "execution_count": 45,
   "metadata": {
    "id": "eTqu-AQAgay4"
   },
   "outputs": [],
   "source": [
    "from sklearn.model_selection import train_test_split\n",
    "x_train,x_test,y_train,y_test=train_test_split(x,y,random_state=42,test_size=0.3)"
   ]
  },
  {
   "cell_type": "markdown",
   "metadata": {
    "id": "f4odkMJthVfu"
   },
   "source": [
    "## Linear Regression"
   ]
  },
  {
   "cell_type": "code",
   "execution_count": 46,
   "metadata": {
    "id": "_dBkueHBcb9J"
   },
   "outputs": [],
   "source": [
    "from sklearn.linear_model import LinearRegression\n",
    "lr=LinearRegression()"
   ]
  },
  {
   "cell_type": "code",
   "execution_count": 47,
   "metadata": {
    "colab": {
     "base_uri": "https://localhost:8080/"
    },
    "id": "TaChCTBwciHU",
    "outputId": "957be6fb-527c-4bc0-dba4-266538018bb8"
   },
   "outputs": [
    {
     "data": {
      "text/plain": [
       "LinearRegression(copy_X=True, fit_intercept=True, n_jobs=None, normalize=False)"
      ]
     },
     "execution_count": 47,
     "metadata": {
      "tags": []
     },
     "output_type": "execute_result"
    }
   ],
   "source": [
    "lr.fit(x_train,y_train)"
   ]
  },
  {
   "cell_type": "code",
   "execution_count": 48,
   "metadata": {
    "id": "yNeCVolvci_6"
   },
   "outputs": [],
   "source": [
    "from sklearn.metrics import mean_squared_error\n"
   ]
  },
  {
   "cell_type": "code",
   "execution_count": 49,
   "metadata": {
    "id": "Ac8HHdy3cm6Y"
   },
   "outputs": [],
   "source": [
    "pr=lr.predict(x_test)"
   ]
  },
  {
   "cell_type": "code",
   "execution_count": 50,
   "metadata": {
    "id": "tIs3v6PocoXd"
   },
   "outputs": [],
   "source": [
    "import numpy as np"
   ]
  },
  {
   "cell_type": "code",
   "execution_count": 51,
   "metadata": {
    "colab": {
     "base_uri": "https://localhost:8080/"
    },
    "id": "HS55IdoscqD8",
    "outputId": "6947b456-04d2-4e7c-a0d0-27d3ca06b38e"
   },
   "outputs": [
    {
     "data": {
      "text/plain": [
       "0.3458906109324253"
      ]
     },
     "execution_count": 51,
     "metadata": {
      "tags": []
     },
     "output_type": "execute_result"
    }
   ],
   "source": [
    "np.sqrt(mean_squared_error(pr,y_test))"
   ]
  },
  {
   "cell_type": "markdown",
   "metadata": {
    "id": "RPapgi6thYEZ"
   },
   "source": [
    "## Lightgbm"
   ]
  },
  {
   "cell_type": "code",
   "execution_count": 52,
   "metadata": {
    "id": "OgT-51CYg3LJ"
   },
   "outputs": [],
   "source": [
    "import lightgbm"
   ]
  },
  {
   "cell_type": "code",
   "execution_count": 53,
   "metadata": {
    "id": "CJYwPQPIjUm8"
   },
   "outputs": [],
   "source": [
    "lg=lightgbm.LGBMRegressor()"
   ]
  },
  {
   "cell_type": "code",
   "execution_count": 54,
   "metadata": {
    "colab": {
     "base_uri": "https://localhost:8080/"
    },
    "id": "tAKm3YE6jXhi",
    "outputId": "a5dd84e6-b6f1-4024-ff73-f0894e4e6568"
   },
   "outputs": [
    {
     "name": "stderr",
     "output_type": "stream",
     "text": [
      "/usr/local/lib/python3.7/dist-packages/sklearn/utils/validation.py:760: DataConversionWarning: A column-vector y was passed when a 1d array was expected. Please change the shape of y to (n_samples, ), for example using ravel().\n",
      "  y = column_or_1d(y, warn=True)\n"
     ]
    },
    {
     "data": {
      "text/plain": [
       "LGBMRegressor(boosting_type='gbdt', class_weight=None, colsample_bytree=1.0,\n",
       "              importance_type='split', learning_rate=0.1, max_depth=-1,\n",
       "              min_child_samples=20, min_child_weight=0.001, min_split_gain=0.0,\n",
       "              n_estimators=100, n_jobs=-1, num_leaves=31, objective=None,\n",
       "              random_state=None, reg_alpha=0.0, reg_lambda=0.0, silent=True,\n",
       "              subsample=1.0, subsample_for_bin=200000, subsample_freq=0)"
      ]
     },
     "execution_count": 54,
     "metadata": {
      "tags": []
     },
     "output_type": "execute_result"
    }
   ],
   "source": [
    "lg.fit(x_train,y_train)"
   ]
  },
  {
   "cell_type": "code",
   "execution_count": 55,
   "metadata": {
    "id": "gU9187gMjYeU"
   },
   "outputs": [],
   "source": [
    "plg=lg.predict(x_test)"
   ]
  },
  {
   "cell_type": "code",
   "execution_count": 56,
   "metadata": {
    "colab": {
     "base_uri": "https://localhost:8080/"
    },
    "id": "KeRyZCLKjb36",
    "outputId": "95a1982f-ff4b-4fdb-d696-cab421f5cfdf"
   },
   "outputs": [
    {
     "data": {
      "text/plain": [
       "0.22676711535071792"
      ]
     },
     "execution_count": 56,
     "metadata": {
      "tags": []
     },
     "output_type": "execute_result"
    }
   ],
   "source": [
    "np.sqrt(mean_squared_error(plg,y_test))\n"
   ]
  },
  {
   "cell_type": "markdown",
   "metadata": {
    "id": "HEhp_dP6hb4k"
   },
   "source": [
    "## Random Forest Regressor"
   ]
  },
  {
   "cell_type": "code",
   "execution_count": 57,
   "metadata": {
    "id": "NDPocGn3jfUV"
   },
   "outputs": [],
   "source": [
    "from sklearn.ensemble import RandomForestRegressor\n",
    "rf=RandomForestRegressor()"
   ]
  },
  {
   "cell_type": "code",
   "execution_count": 58,
   "metadata": {
    "colab": {
     "base_uri": "https://localhost:8080/"
    },
    "id": "QcQ7-02Nj4-c",
    "outputId": "d72beea0-bdc3-442f-bd74-f98a26932ef5"
   },
   "outputs": [
    {
     "name": "stderr",
     "output_type": "stream",
     "text": [
      "/usr/local/lib/python3.7/dist-packages/ipykernel_launcher.py:1: DataConversionWarning: A column-vector y was passed when a 1d array was expected. Please change the shape of y to (n_samples,), for example using ravel().\n",
      "  \"\"\"Entry point for launching an IPython kernel.\n"
     ]
    },
    {
     "data": {
      "text/plain": [
       "RandomForestRegressor(bootstrap=True, ccp_alpha=0.0, criterion='mse',\n",
       "                      max_depth=None, max_features='auto', max_leaf_nodes=None,\n",
       "                      max_samples=None, min_impurity_decrease=0.0,\n",
       "                      min_impurity_split=None, min_samples_leaf=1,\n",
       "                      min_samples_split=2, min_weight_fraction_leaf=0.0,\n",
       "                      n_estimators=100, n_jobs=None, oob_score=False,\n",
       "                      random_state=None, verbose=0, warm_start=False)"
      ]
     },
     "execution_count": 58,
     "metadata": {
      "tags": []
     },
     "output_type": "execute_result"
    }
   ],
   "source": [
    "rf.fit(x_train,y_train)"
   ]
  },
  {
   "cell_type": "code",
   "execution_count": 59,
   "metadata": {
    "id": "fS0RJV27j52a"
   },
   "outputs": [],
   "source": [
    "pf=rf.predict(x_test)"
   ]
  },
  {
   "cell_type": "code",
   "execution_count": 60,
   "metadata": {
    "colab": {
     "base_uri": "https://localhost:8080/"
    },
    "id": "G8rQJP4IkEeP",
    "outputId": "d8001f10-ec85-4751-9636-0207a7be4bc4"
   },
   "outputs": [
    {
     "data": {
      "text/plain": [
       "0.09741737253713684"
      ]
     },
     "execution_count": 60,
     "metadata": {
      "tags": []
     },
     "output_type": "execute_result"
    }
   ],
   "source": [
    "np.sqrt(mean_squared_error(pf,y_test))\n"
   ]
  },
  {
   "cell_type": "markdown",
   "metadata": {
    "id": "1vdwzcb7hfe0"
   },
   "source": [
    "## XgBoost"
   ]
  },
  {
   "cell_type": "code",
   "execution_count": 61,
   "metadata": {
    "id": "n7AXB_GvkGHN"
   },
   "outputs": [],
   "source": [
    "import xgboost"
   ]
  },
  {
   "cell_type": "code",
   "execution_count": 62,
   "metadata": {
    "id": "l9iFgJRPkZTe"
   },
   "outputs": [],
   "source": [
    "xgb=xgboost.XGBRegressor()"
   ]
  },
  {
   "cell_type": "code",
   "execution_count": 63,
   "metadata": {
    "colab": {
     "base_uri": "https://localhost:8080/"
    },
    "id": "wvaNI_IJkdoE",
    "outputId": "495415ff-6d44-4eef-cd43-84f45490326b"
   },
   "outputs": [
    {
     "name": "stdout",
     "output_type": "stream",
     "text": [
      "[13:18:38] WARNING: /workspace/src/objective/regression_obj.cu:152: reg:linear is now deprecated in favor of reg:squarederror.\n"
     ]
    },
    {
     "data": {
      "text/plain": [
       "XGBRegressor(base_score=0.5, booster='gbtree', colsample_bylevel=1,\n",
       "             colsample_bynode=1, colsample_bytree=1, gamma=0,\n",
       "             importance_type='gain', learning_rate=0.1, max_delta_step=0,\n",
       "             max_depth=3, min_child_weight=1, missing=None, n_estimators=100,\n",
       "             n_jobs=1, nthread=None, objective='reg:linear', random_state=0,\n",
       "             reg_alpha=0, reg_lambda=1, scale_pos_weight=1, seed=None,\n",
       "             silent=None, subsample=1, verbosity=1)"
      ]
     },
     "execution_count": 63,
     "metadata": {
      "tags": []
     },
     "output_type": "execute_result"
    }
   ],
   "source": [
    "xgb.fit(x_train,y_train)"
   ]
  },
  {
   "cell_type": "code",
   "execution_count": 64,
   "metadata": {
    "id": "coa6194ikerI"
   },
   "outputs": [],
   "source": [
    "xg=xgb.predict(x_test)"
   ]
  },
  {
   "cell_type": "code",
   "execution_count": 65,
   "metadata": {
    "colab": {
     "base_uri": "https://localhost:8080/"
    },
    "id": "y-Giu-mShsO-",
    "outputId": "76605a66-3cf3-4d3c-e47d-55fc96333bda"
   },
   "outputs": [
    {
     "data": {
      "text/plain": [
       "0.3110184976194629"
      ]
     },
     "execution_count": 65,
     "metadata": {
      "tags": []
     },
     "output_type": "execute_result"
    }
   ],
   "source": [
    "np.sqrt(mean_squared_error(xg,y_test))"
   ]
  },
  {
   "cell_type": "markdown",
   "metadata": {
    "id": "4vDyadfZiOhH"
   },
   "source": [
    "## predicting on test data"
   ]
  },
  {
   "cell_type": "code",
   "execution_count": 66,
   "metadata": {
    "id": "_ZszgcnhiN5A"
   },
   "outputs": [],
   "source": [
    "df1=pd.read_csv('/content/Test_data (1).csv')"
   ]
  },
  {
   "cell_type": "code",
   "execution_count": 79,
   "metadata": {
    "colab": {
     "base_uri": "https://localhost:8080/",
     "height": 215
    },
    "id": "m3cuHgx8hzbH",
    "outputId": "7907b00c-b227-4c44-d05c-5162deaf4645"
   },
   "outputs": [
    {
     "data": {
      "text/html": [
       "<div>\n",
       "<style scoped>\n",
       "    .dataframe tbody tr th:only-of-type {\n",
       "        vertical-align: middle;\n",
       "    }\n",
       "\n",
       "    .dataframe tbody tr th {\n",
       "        vertical-align: top;\n",
       "    }\n",
       "\n",
       "    .dataframe thead th {\n",
       "        text-align: right;\n",
       "    }\n",
       "</style>\n",
       "<table border=\"1\" class=\"dataframe\">\n",
       "  <thead>\n",
       "    <tr style=\"text-align: right;\">\n",
       "      <th></th>\n",
       "      <th>Data_Value_Type</th>\n",
       "      <th>Low_Confidence_Limit</th>\n",
       "      <th>High_Confidence_Limit</th>\n",
       "      <th>Sample_Size</th>\n",
       "      <th>StratificationCategory1</th>\n",
       "      <th>Stratification1</th>\n",
       "      <th>StratificationCategoryId1</th>\n",
       "      <th>StratificationID1</th>\n",
       "      <th>Class</th>\n",
       "    </tr>\n",
       "  </thead>\n",
       "  <tbody>\n",
       "    <tr>\n",
       "      <th>0</th>\n",
       "      <td>Value</td>\n",
       "      <td>34.9</td>\n",
       "      <td>35.5</td>\n",
       "      <td>438479.0</td>\n",
       "      <td>5</td>\n",
       "      <td>205</td>\n",
       "      <td>4</td>\n",
       "      <td>198</td>\n",
       "      <td>0</td>\n",
       "    </tr>\n",
       "    <tr>\n",
       "      <th>1</th>\n",
       "      <td>Value</td>\n",
       "      <td>40.6</td>\n",
       "      <td>41.5</td>\n",
       "      <td>198440.0</td>\n",
       "      <td>2</td>\n",
       "      <td>176</td>\n",
       "      <td>2</td>\n",
       "      <td>174</td>\n",
       "      <td>0</td>\n",
       "    </tr>\n",
       "    <tr>\n",
       "      <th>2</th>\n",
       "      <td>Value</td>\n",
       "      <td>28.9</td>\n",
       "      <td>29.7</td>\n",
       "      <td>240000.0</td>\n",
       "      <td>2</td>\n",
       "      <td>184</td>\n",
       "      <td>2</td>\n",
       "      <td>182</td>\n",
       "      <td>0</td>\n",
       "    </tr>\n",
       "    <tr>\n",
       "      <th>3</th>\n",
       "      <td>Value</td>\n",
       "      <td>33.6</td>\n",
       "      <td>35.7</td>\n",
       "      <td>32325.0</td>\n",
       "      <td>1</td>\n",
       "      <td>190</td>\n",
       "      <td>1</td>\n",
       "      <td>189</td>\n",
       "      <td>0</td>\n",
       "    </tr>\n",
       "    <tr>\n",
       "      <th>4</th>\n",
       "      <td>Value</td>\n",
       "      <td>33.7</td>\n",
       "      <td>34.8</td>\n",
       "      <td>123241.0</td>\n",
       "      <td>1</td>\n",
       "      <td>189</td>\n",
       "      <td>1</td>\n",
       "      <td>190</td>\n",
       "      <td>0</td>\n",
       "    </tr>\n",
       "  </tbody>\n",
       "</table>\n",
       "</div>"
      ],
      "text/plain": [
       "  Data_Value_Type  Low_Confidence_Limit  ...  StratificationID1  Class\n",
       "0           Value                  34.9  ...                198      0\n",
       "1           Value                  40.6  ...                174      0\n",
       "2           Value                  28.9  ...                182      0\n",
       "3           Value                  33.6  ...                189      0\n",
       "4           Value                  33.7  ...                190      0\n",
       "\n",
       "[5 rows x 9 columns]"
      ]
     },
     "execution_count": 79,
     "metadata": {
      "tags": []
     },
     "output_type": "execute_result"
    }
   ],
   "source": [
    "df1.head()"
   ]
  },
  {
   "cell_type": "code",
   "execution_count": 80,
   "metadata": {
    "colab": {
     "base_uri": "https://localhost:8080/",
     "height": 304
    },
    "id": "wTpCK8SRiYhQ",
    "outputId": "e38d90c8-e730-4310-9eb9-170d6eb477eb"
   },
   "outputs": [
    {
     "data": {
      "text/html": [
       "<div>\n",
       "<style scoped>\n",
       "    .dataframe tbody tr th:only-of-type {\n",
       "        vertical-align: middle;\n",
       "    }\n",
       "\n",
       "    .dataframe tbody tr th {\n",
       "        vertical-align: top;\n",
       "    }\n",
       "\n",
       "    .dataframe thead th {\n",
       "        text-align: right;\n",
       "    }\n",
       "</style>\n",
       "<table border=\"1\" class=\"dataframe\">\n",
       "  <thead>\n",
       "    <tr style=\"text-align: right;\">\n",
       "      <th></th>\n",
       "      <th>Low_Confidence_Limit</th>\n",
       "      <th>High_Confidence_Limit</th>\n",
       "      <th>Sample_Size</th>\n",
       "      <th>StratificationCategory1</th>\n",
       "      <th>Stratification1</th>\n",
       "      <th>StratificationCategoryId1</th>\n",
       "      <th>StratificationID1</th>\n",
       "      <th>Class</th>\n",
       "    </tr>\n",
       "  </thead>\n",
       "  <tbody>\n",
       "    <tr>\n",
       "      <th>count</th>\n",
       "      <td>4636.000000</td>\n",
       "      <td>4636.000000</td>\n",
       "      <td>4636.000000</td>\n",
       "      <td>4636.000000</td>\n",
       "      <td>4636.000000</td>\n",
       "      <td>4636.000000</td>\n",
       "      <td>4636.000000</td>\n",
       "      <td>4636.000000</td>\n",
       "    </tr>\n",
       "    <tr>\n",
       "      <th>mean</th>\n",
       "      <td>25.917650</td>\n",
       "      <td>34.969354</td>\n",
       "      <td>3842.453312</td>\n",
       "      <td>2.176661</td>\n",
       "      <td>176.393443</td>\n",
       "      <td>2.349008</td>\n",
       "      <td>176.240725</td>\n",
       "      <td>0.301769</td>\n",
       "    </tr>\n",
       "    <tr>\n",
       "      <th>std</th>\n",
       "      <td>7.745270</td>\n",
       "      <td>8.867827</td>\n",
       "      <td>19512.345589</td>\n",
       "      <td>1.600453</td>\n",
       "      <td>23.769290</td>\n",
       "      <td>1.813488</td>\n",
       "      <td>23.355982</td>\n",
       "      <td>0.459075</td>\n",
       "    </tr>\n",
       "    <tr>\n",
       "      <th>min</th>\n",
       "      <td>0.600000</td>\n",
       "      <td>7.900000</td>\n",
       "      <td>50.000000</td>\n",
       "      <td>0.000000</td>\n",
       "      <td>15.000000</td>\n",
       "      <td>0.000000</td>\n",
       "      <td>15.000000</td>\n",
       "      <td>0.000000</td>\n",
       "    </tr>\n",
       "    <tr>\n",
       "      <th>25%</th>\n",
       "      <td>20.900000</td>\n",
       "      <td>29.900000</td>\n",
       "      <td>513.000000</td>\n",
       "      <td>1.000000</td>\n",
       "      <td>176.000000</td>\n",
       "      <td>1.000000</td>\n",
       "      <td>175.000000</td>\n",
       "      <td>0.000000</td>\n",
       "    </tr>\n",
       "    <tr>\n",
       "      <th>50%</th>\n",
       "      <td>27.100000</td>\n",
       "      <td>36.000000</td>\n",
       "      <td>1110.500000</td>\n",
       "      <td>3.000000</td>\n",
       "      <td>181.000000</td>\n",
       "      <td>3.000000</td>\n",
       "      <td>182.000000</td>\n",
       "      <td>0.000000</td>\n",
       "    </tr>\n",
       "    <tr>\n",
       "      <th>75%</th>\n",
       "      <td>31.601578</td>\n",
       "      <td>40.500000</td>\n",
       "      <td>2513.250000</td>\n",
       "      <td>3.000000</td>\n",
       "      <td>185.000000</td>\n",
       "      <td>3.000000</td>\n",
       "      <td>187.000000</td>\n",
       "      <td>1.000000</td>\n",
       "    </tr>\n",
       "    <tr>\n",
       "      <th>max</th>\n",
       "      <td>48.500000</td>\n",
       "      <td>75.300000</td>\n",
       "      <td>476876.000000</td>\n",
       "      <td>5.000000</td>\n",
       "      <td>205.000000</td>\n",
       "      <td>5.000000</td>\n",
       "      <td>198.000000</td>\n",
       "      <td>1.000000</td>\n",
       "    </tr>\n",
       "  </tbody>\n",
       "</table>\n",
       "</div>"
      ],
      "text/plain": [
       "       Low_Confidence_Limit  ...        Class\n",
       "count           4636.000000  ...  4636.000000\n",
       "mean              25.917650  ...     0.301769\n",
       "std                7.745270  ...     0.459075\n",
       "min                0.600000  ...     0.000000\n",
       "25%               20.900000  ...     0.000000\n",
       "50%               27.100000  ...     0.000000\n",
       "75%               31.601578  ...     1.000000\n",
       "max               48.500000  ...     1.000000\n",
       "\n",
       "[8 rows x 8 columns]"
      ]
     },
     "execution_count": 80,
     "metadata": {
      "tags": []
     },
     "output_type": "execute_result"
    }
   ],
   "source": [
    "df1.describe()"
   ]
  },
  {
   "cell_type": "code",
   "execution_count": 81,
   "metadata": {
    "colab": {
     "base_uri": "https://localhost:8080/"
    },
    "id": "6kIXgW-eiqGO",
    "outputId": "a9738a13-06e5-470c-a970-73d7b2f34858"
   },
   "outputs": [
    {
     "data": {
      "text/plain": [
       "Data_Value_Type              False\n",
       "Low_Confidence_Limit         False\n",
       "High_Confidence_Limit        False\n",
       "Sample_Size                  False\n",
       "StratificationCategory1      False\n",
       "Stratification1              False\n",
       "StratificationCategoryId1    False\n",
       "StratificationID1            False\n",
       "Class                        False\n",
       "dtype: bool"
      ]
     },
     "execution_count": 81,
     "metadata": {
      "tags": []
     },
     "output_type": "execute_result"
    }
   ],
   "source": [
    "df1.isnull().any()"
   ]
  },
  {
   "cell_type": "code",
   "execution_count": 82,
   "metadata": {
    "id": "SNBPgCRHirwP"
   },
   "outputs": [],
   "source": [
    "x1=df1.iloc[:,[1,2,3,4,5,6,7,8]].values"
   ]
  },
  {
   "cell_type": "code",
   "execution_count": 87,
   "metadata": {
    "id": "afEsOBqbi83I"
   },
   "outputs": [],
   "source": [
    "x1=ss.fit_transform(x1)"
   ]
  },
  {
   "cell_type": "code",
   "execution_count": 88,
   "metadata": {
    "id": "_EnovXgBix6n"
   },
   "outputs": [],
   "source": [
    "predicted=lr.predict(x1)"
   ]
  },
  {
   "cell_type": "code",
   "execution_count": 89,
   "metadata": {
    "colab": {
     "base_uri": "https://localhost:8080/"
    },
    "id": "SWex7aDZi2EF",
    "outputId": "aaa9996a-db10-4586-c3d8-9afde66ead9b"
   },
   "outputs": [
    {
     "data": {
      "text/plain": [
       "array([[37.46523381],\n",
       "       [45.08903349],\n",
       "       [30.29556359],\n",
       "       ...,\n",
       "       [31.20724205],\n",
       "       [47.64126152],\n",
       "       [34.49859081]])"
      ]
     },
     "execution_count": 89,
     "metadata": {
      "tags": []
     },
     "output_type": "execute_result"
    }
   ],
   "source": [
    "predicted"
   ]
  },
  {
   "cell_type": "code",
   "execution_count": null,
   "metadata": {
    "id": "KLm1N75Si3dQ"
   },
   "outputs": [],
   "source": []
  }
 ],
 "metadata": {
  "colab": {
   "name": "obesity.ipynb",
   "provenance": []
  },
  "kernelspec": {
   "display_name": "Python 3 (ipykernel)",
   "language": "python",
   "name": "python3"
  },
  "language_info": {
   "codemirror_mode": {
    "name": "ipython",
    "version": 3
   },
   "file_extension": ".py",
   "mimetype": "text/x-python",
   "name": "python",
   "nbconvert_exporter": "python",
   "pygments_lexer": "ipython3",
   "version": "3.10.2"
  }
 },
 "nbformat": 4,
 "nbformat_minor": 1
}
